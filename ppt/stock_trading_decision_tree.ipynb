{
 "cells": [
  {
   "cell_type": "code",
   "execution_count": 1,
   "metadata": {
    "collapsed": false
   },
   "outputs": [],
   "source": [
    "import pandas as pd\n",
    "import numpy as np  \n",
    "from sklearn.model_selection import train_test_split \n",
    "from sklearn import tree\n",
    "from sklearn import metrics\n",
    "\n",
    "from stock_trading_util import download_price, read_price, line_plot, add_bbvalue, add_so, add_rtrn, add_rsi, calc_bt_pl"
   ]
  },
  {
   "cell_type": "code",
   "execution_count": 2,
   "metadata": {
    "collapsed": false
   },
   "outputs": [],
   "source": [
    "#df_prc = download_price('SPY', '2010-01-01', '2019-12-31')\n",
    "df_prc = read_price('SPY', '2010-01-01', '2020-06-30')\n",
    "#line_plot(df_prc, 'SPY')"
   ]
  },
  {
   "cell_type": "code",
   "execution_count": 3,
   "metadata": {
    "collapsed": false
   },
   "outputs": [],
   "source": [
    "df_prc = add_bbvalue(df_prc.loc[:,['Date', 'SPY']], 'SPY')\n",
    "df_prc['bbvalue20'] = df_prc.bbvalue20 / 100.0\n",
    "df_prc = add_so(df_prc, 'SPY')\n",
    "df_prc['so20'] = (df_prc.so20 - 0.5) / 10.0\n",
    "df_prc = add_rsi(df_prc, 'SPY')\n",
    "df_prc['rsi14'] = (df_prc.rsi14 - 0.5) / 10.0\n",
    "df_prc = add_rtrn(df_prc, 'SPY', 'b', 20)\n",
    "df_prc = add_rtrn(df_prc, 'SPY', 'b', 5)\n",
    "df_prc = add_rtrn(df_prc, 'SPY', 'b', 1)\n",
    "df_prc = add_rtrn(df_prc, 'SPY', 'f', 1)"
   ]
  },
  {
   "cell_type": "code",
   "execution_count": 4,
   "metadata": {
    "collapsed": false
   },
   "outputs": [],
   "source": [
    "df_prc['holding'] = 0\n",
    "df_prc.loc[df_prc.rtrn_f_1d>0.002, 'holding'] = 1\n",
    "df_prc.loc[df_prc.rtrn_f_1d<-0.002, 'holding'] = -1\n",
    "df_prc.drop(columns=['rtrn_f_1d'], inplace=True)"
   ]
  },
  {
   "cell_type": "code",
   "execution_count": 5,
   "metadata": {
    "collapsed": false
   },
   "outputs": [
    {
     "data": {
      "text/plain": [
       "holding\n",
       "-1     818\n",
       " 0     720\n",
       " 1    1102\n",
       "Name: holding, dtype: int64"
      ]
     },
     "execution_count": 5,
     "metadata": {},
     "output_type": "execute_result"
    }
   ],
   "source": [
    "df_cnt = df_prc.groupby('holding')['holding'].count()\n",
    "df_cnt"
   ]
  },
  {
   "cell_type": "code",
   "execution_count": 6,
   "metadata": {
    "collapsed": true
   },
   "outputs": [],
   "source": [
    "# X = df_prc.iloc[2016:2516, 2:-1].values\n",
    "# y = df_prc.iloc[2016:2516, -1].values\n",
    "# X_train, X_test, y_train, y_test = train_test_split(X, y, test_size=0.2, random_state=100)\n",
    "X_train = df_prc.iloc[2016:2516, 2:-1].values\n",
    "#X_test = df_prc.iloc[-120:-1, 2:-1].values\n",
    "y_train = df_prc.iloc[2016:2516, -1].values\n",
    "#y_test = df_prc.iloc[-120:-1, -1].values\n",
    "def X_y_test(idx):\n",
    "    return df_prc.iloc[idx:-1, 2:-1].values, df_prc.iloc[idx:-1, -1].values, df_prc.iloc[idx:-1]\n",
    "X_test, y_test, df_test = X_y_test(2516)"
   ]
  },
  {
   "cell_type": "code",
   "execution_count": 7,
   "metadata": {
    "collapsed": false
   },
   "outputs": [
    {
     "name": "stdout",
     "output_type": "stream",
     "text": [
      "Tree depth is 10\n",
      "Training f1 score is 0.804\n",
      "Testing f1 score is 0.44715447154471544\n"
     ]
    }
   ],
   "source": [
    "clf = tree.DecisionTreeClassifier(max_depth=10)\n",
    "clf.fit(X_train, y_train)\n",
    "print('Tree depth is ' + str(clf.tree_.max_depth))\n",
    "y_pred_train = clf.predict(X_train)\n",
    "print('Training f1 score is ' + str(metrics.f1_score(y_train, y_pred_train, average='micro')))\n",
    "y_pred_test = clf.predict(X_test)\n",
    "print('Testing f1 score is ' + str(metrics.f1_score(y_test, y_pred_test, average='micro')))"
   ]
  },
  {
   "cell_type": "code",
   "execution_count": 8,
   "metadata": {
    "collapsed": false
   },
   "outputs": [
    {
     "data": {
      "text/plain": [
       "array([0.2097934 , 0.13814174, 0.16849774, 0.1405208 , 0.18642281,\n",
       "       0.15662351])"
      ]
     },
     "execution_count": 8,
     "metadata": {},
     "output_type": "execute_result"
    }
   ],
   "source": [
    "clf.feature_importances_"
   ]
  },
  {
   "cell_type": "code",
   "execution_count": 9,
   "metadata": {
    "collapsed": false
   },
   "outputs": [
    {
     "name": "stdout",
     "output_type": "stream",
     "text": [
      "Buy and hold returns $0.9331 for $1 investment.\n",
      "Decision tree based trading returns $1.7703 for $1 investment.\n"
     ]
    }
   ],
   "source": [
    "df = pd.DataFrame({'Actual': y_test, 'pstn': y_pred_test, 'price': df_test.SPY})\n",
    "pl_buyhold, pl_trade = calc_bt_pl(df)\n",
    "print('Buy and hold returns ${} for $1 investment.'.format(pl_buyhold))\n",
    "print('Decision tree based trading returns ${} for $1 investment.'.format(pl_trade))"
   ]
  }
 ],
 "metadata": {
  "kernelspec": {
   "display_name": "Python 2",
   "language": "python",
   "name": "python2"
  },
  "language_info": {
   "codemirror_mode": {
    "name": "ipython",
    "version": 2
   },
   "file_extension": ".py",
   "mimetype": "text/x-python",
   "name": "python",
   "nbconvert_exporter": "python",
   "pygments_lexer": "ipython2",
   "version": "2.7.13"
  }
 },
 "nbformat": 4,
 "nbformat_minor": 2
}
