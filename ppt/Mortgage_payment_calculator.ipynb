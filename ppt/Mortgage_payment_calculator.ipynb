{
 "cells": [
  {
   "cell_type": "code",
   "execution_count": 1,
   "metadata": {
    "collapsed": true
   },
   "outputs": [],
   "source": [
    "def calc_mth_pmt(borrowing_amt, mortgage_rt, years=30):\n",
    "    '''\n",
    "    Given borrowing amount, mortgage rate and years, return monthly payment amount.\n",
    "    '''\n",
    "    \n",
    "    compounding_rt = (mortgage_rt / 100.0) / 12.0\n",
    "    pmt_cnt = years * 12\n",
    "    discount_sum = (1 - (1.0 / (1.0 + compounding_rt)) ** pmt_cnt) / compounding_rt\n",
    "    mth_pmt = borrowing_amt / discount_sum\n",
    "    \n",
    "    return round(mth_pmt,2)\n",
    "\n",
    "def calc_borrowing_amt(mth_pmt, mortgage_rt, years=30):\n",
    "    '''\n",
    "    Given monthly payment amount, mortgage rate and years, return borrowing amount.\n",
    "    '''\n",
    "    \n",
    "    compounding_rt = (mortgage_rt / 100.0) / 12.0\n",
    "    pmt_cnt = years * 12\n",
    "    discount_sum = (1 - (1.0 / (1.0 + compounding_rt)) ** pmt_cnt) / compounding_rt\n",
    "    borrowing_amt = mth_pmt * discount_sum\n",
    "    \n",
    "    return round(borrowing_amt,2)\n",
    "\n",
    "def calc_mortgage_rt(borrowing_amt, mth_pmt, years=30):\n",
    "    '''\n",
    "    Given borrowing amount, monthly payment amount and years, return implied mortgage rate.\n",
    "    '''\n",
    "    \n",
    "    pmt_cnt = years * 12\n",
    "    if mth_pmt < borrowing_amt * 1.0 / pmt_cnt:\n",
    "        raise ValueError('Something wrong with input values causing negative mortgage rate.')\n",
    "    elif mth_pmt == borrowing_amt * 1.0 / pmt_cnt:\n",
    "        return 0\n",
    "    else:\n",
    "        guess_rt_h = 20.0\n",
    "        guess_rt_l = 0.0\n",
    "        if mth_pmt > calc_mth_pmt(borrowing_amt, guess_rt_h, years):\n",
    "            return 'Your mortgage rate is higher than 20%???!!!'\n",
    "        while abs(guess_rt_h - guess_rt_l) > 0.0001:\n",
    "            guess_rt = (guess_rt_h + guess_rt_l) / 2.0\n",
    "            guess_mth_pmt = calc_mth_pmt(borrowing_amt, guess_rt, years)\n",
    "            if mth_pmt==guess_mth_pmt:\n",
    "                return round(guess_rt,3)\n",
    "            elif mth_pmt>guess_mth_pmt:\n",
    "                guess_rt_l = guess_rt\n",
    "            else:\n",
    "                guess_rt_h = guess_rt\n",
    "        \n",
    "    return round(guess_rt,3)\n",
    "\n",
    "def calc_closing_cost(borrowing_amt, mortgage_rt, apr, years=30):\n",
    "    '''\n",
    "    Given borrowing amount, mortgage rate, APR and years, return implied closing cost.\n",
    "    '''\n",
    "    \n",
    "    mth_pmt = calc_mth_pmt(borrowing_amt, apr, years)\n",
    "    true_borrowing_amt = calc_borrowing_amt(mth_pmt, mortgage_rt, years)\n",
    "    closing_cost = true_borrowing_amt - borrowing_amt\n",
    "    \n",
    "    return round(closing_cost,2)\n",
    "\n",
    "def calc_apr(borrowing_amt, mortgage_rt, closing_cost, years=30):\n",
    "    '''\n",
    "    Given borrowing amount, mortgage rate, closing cost and years, return APR.\n",
    "    '''\n",
    "    \n",
    "    true_borrowing_amt = borrowing_amt + closing_cost\n",
    "    mth_pmt = calc_mth_pmt(true_borrowing_amt, mortgage_rt, years)\n",
    "    apr = calc_mortgage_rt(borrowing_amt, mth_pmt, years)\n",
    "    \n",
    "    return round(apr,3)"
   ]
  },
  {
   "cell_type": "code",
   "execution_count": 9,
   "metadata": {
    "collapsed": false
   },
   "outputs": [
    {
     "data": {
      "text/plain": [
       "3.133"
      ]
     },
     "execution_count": 9,
     "metadata": {},
     "output_type": "execute_result"
    }
   ],
   "source": [
    "#calc_mth_pmt(280000, 3.0, 14)\n",
    "#calc_borrowing_amt(1835, 2.25, 15)\n",
    "#calc_mortgage_rt(280000, 2500, 15)\n",
    "#calc_closing_cost(384000, 2.25, 2.5, 15)\n",
    "calc_apr(280000, 3.0, 4800, 30)"
   ]
  },
  {
   "cell_type": "code",
   "execution_count": 19,
   "metadata": {
    "collapsed": false
   },
   "outputs": [
    {
     "name": "stdout",
     "output_type": "stream",
     "text": [
      "You have to pay $1900.14 to payoff borrowed $280000 in 15 years, or $1933.63 to pay it off in 15 years with 30 years fixed rate.\n",
      "You pay a monthly cost of $33.49 for a flexibility to only pay $1180.49\n"
     ]
    }
   ],
   "source": [
    "# Borrowing $280K, offered 30Y rate 2.5% (3.125%), 15Y rate 2.25% (2.875%).\n",
    "borrowing_amt = 280000\n",
    "rt_30y = 3.0\n",
    "rt_15y = 2.75\n",
    "\n",
    "have_to_pay = calc_mth_pmt(borrowing_amt, rt_15y, 15)\n",
    "choose_to_pay = calc_mth_pmt(borrowing_amt, rt_30y, 15)\n",
    "cost = choose_to_pay - have_to_pay\n",
    "gain = calc_mth_pmt(borrowing_amt, rt_30y, 30)\n",
    "\n",
    "print('You have to pay ${0} to payoff borrowed ${2} in 15 years, or ${1} to pay it off in 15 years with 30 years fixed rate.'.format(have_to_pay, choose_to_pay, borrowing_amt))\n",
    "print('You pay a monthly cost of ${0} for a flexibility to only pay ${1}'.format(cost, gain))"
   ]
  },
  {
   "cell_type": "code",
   "execution_count": 49,
   "metadata": {
    "collapsed": false
   },
   "outputs": [
    {
     "data": {
      "text/plain": [
       "5898.6"
      ]
     },
     "execution_count": 49,
     "metadata": {},
     "output_type": "execute_result"
    }
   ],
   "source": [
    "32.77*12*15"
   ]
  },
  {
   "cell_type": "code",
   "execution_count": null,
   "metadata": {
    "collapsed": true
   },
   "outputs": [],
   "source": []
  }
 ],
 "metadata": {
  "kernelspec": {
   "display_name": "Python 2",
   "language": "python",
   "name": "python2"
  },
  "language_info": {
   "codemirror_mode": {
    "name": "ipython",
    "version": 2
   },
   "file_extension": ".py",
   "mimetype": "text/x-python",
   "name": "python",
   "nbconvert_exporter": "python",
   "pygments_lexer": "ipython2",
   "version": "2.7.13"
  }
 },
 "nbformat": 4,
 "nbformat_minor": 2
}
